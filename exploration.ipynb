{
 "cells": [
  {
   "cell_type": "code",
   "execution_count": 199,
   "id": "e78ac8c9-b042-42f0-8fc5-8e780c3a402e",
   "metadata": {},
   "outputs": [],
   "source": [
    "import pandas as pd\n",
    "from scipy import stats\n",
    "from transformers import AutoTokenizer, AutoModelForSeq2SeqLM, pipeline\n",
    "from sentence_transformers import SentenceTransformer\n",
    "import torch\n",
    "from torch import nn\n",
    "from collections import defaultdict\n",
    "from pprint import pprint\n",
    "import pickle\n",
    "\n",
    "RANDOM_SEED=42\n",
    "DEVICE = torch.device(\"cuda:0\" if torch.cuda.is_available() else \"cpu\")"
   ]
  },
  {
   "cell_type": "markdown",
   "id": "115a8d7b-7764-4dc6-b93c-ea32e743da15",
   "metadata": {},
   "source": [
    "## Translation Model -> SBERT -> Pretrained"
   ]
  },
  {
   "cell_type": "code",
   "execution_count": 200,
   "id": "be503a8b-7a00-49a8-8ae9-939e53aa04ac",
   "metadata": {},
   "outputs": [],
   "source": [
    "# Code\n",
    "# SOURCE: Telugu\ttel_Telu\n",
    "# TARGET: English\teng_Latn"
   ]
  },
  {
   "cell_type": "code",
   "execution_count": 306,
   "id": "00f3db4e-cefa-45b5-809d-e3553c4b9f95",
   "metadata": {},
   "outputs": [],
   "source": [
    "TRANSLATION_MODELS = [\n",
    "    # (\"google/madlad400-3b-mt\", 16),\n",
    "    # (\"google/madlad400-10b-mt\", 16),\n",
    "    # (\"facebook/mbart-large-50-many-to-many-mmt\", 16),\n",
    "    # (\"facebook/mbart-large-50-many-to-one-mmt\", 16),\n",
    "    # (\"facebook/mbart-large-50-one-to-many-mmt\", 16),\n",
    "    # (\"facebook/mbart-large-50\", 16),\n",
    "    # (\"facebook/mbart-large-cc25\", 16),\n",
    "    (\"facebook/nllb-200-3.3B\", 8),\n",
    "    (\"facebook/nllb-200-1.3B\", 16),\n",
    "    (\"facebook/nllb-200-distilled-600M\", 16), # bsz fixed\n",
    "    (\"facebook/nllb-200-distilled-1.3B\", 16), # bsz fixed\n",
    "    # (\"facebook/nllb-moe-54b\", 2),\n",
    "]"
   ]
  },
  {
   "cell_type": "code",
   "execution_count": 202,
   "id": "bfcd8689-01b7-482b-b9cd-43942333c22d",
   "metadata": {},
   "outputs": [],
   "source": [
    "STS_MODELS = [\n",
    "    \"sentence-transformers/sentence-t5-xxl\",\n",
    "    \"sentence-transformers/gtr-t5-xxl\",\n",
    "    \"sentence-transformers/all-roberta-large-v1\",\n",
    "    \"sentence-transformers/all-mpnet-base-v1\",\n",
    "    \"sentence-transformers/gtr-t5-large\",\n",
    "    \"sentence-transformers/gtr-t5-xl\",\n",
    "    \"sentence-transformers/all-mpnet-base-v2\",\n",
    "    \"sentence-transformers/sentence-t5-xl\",\n",
    "    \"sentence-transformers/sentence-t5-large\",\n",
    "    \"sentence-transformers/all-MiniLM-L12-v1\",\n",
    "    \"sentence-transformers/all-distilroberta-v1\",\n",
    "    \"sentence-transformers/all-MiniLM-L12-v2\",\n",
    "    \"sentence-transformers/all-MiniLM-L6-v2\",   \n",
    "]\n",
    "\n",
    "UNSUP_MODELS = [\n",
    "    \"bert-base-uncased\",\n",
    "    \"bert-large-uncased\",\n",
    "    \"roberta-base\",\n",
    "    \"roberta-large\",\n",
    "]"
   ]
  },
  {
   "cell_type": "code",
   "execution_count": 203,
   "id": "7e5d6414-eb21-4753-baef-d798d8232313",
   "metadata": {},
   "outputs": [
    {
     "name": "stdout",
     "output_type": "stream",
     "text": [
      "amh  arq  ary  eng  esp  hau  kin  mar\ttel\n"
     ]
    }
   ],
   "source": [
    "!ls data/\"Track A\"/"
   ]
  },
  {
   "cell_type": "code",
   "execution_count": 148,
   "id": "d05541d0-2a60-40d4-abf4-0d80ea437069",
   "metadata": {},
   "outputs": [
    {
     "name": "stdout",
     "output_type": "stream",
     "text": [
      "2341 data/Track A/tel/tel_train.csv\n"
     ]
    }
   ],
   "source": [
    "!wc -l \"data/Track A/tel/tel_train.csv\""
   ]
  },
  {
   "cell_type": "code",
   "execution_count": 143,
   "id": "db19681f-9fe2-4e54-810d-a9b5485d2ebf",
   "metadata": {},
   "outputs": [],
   "source": [
    "df = pd.read_csv(\"./data/Track A/tel/tel_train.csv\")\n",
    "df[\"text1\"] = df[\"Text\"].map(lambda x: x.split(\"\\n\")[0].strip('\"'))\n",
    "df[\"text2\"] = df[\"Text\"].map(lambda x: x.split(\"\\n\")[1].strip('\"'))"
   ]
  },
  {
   "cell_type": "code",
   "execution_count": 144,
   "id": "a38b15cf-6122-4c39-ab27-e7e005156015",
   "metadata": {},
   "outputs": [
    {
     "data": {
      "text/html": [
       "<div>\n",
       "<style scoped>\n",
       "    .dataframe tbody tr th:only-of-type {\n",
       "        vertical-align: middle;\n",
       "    }\n",
       "\n",
       "    .dataframe tbody tr th {\n",
       "        vertical-align: top;\n",
       "    }\n",
       "\n",
       "    .dataframe thead th {\n",
       "        text-align: right;\n",
       "    }\n",
       "</style>\n",
       "<table border=\"1\" class=\"dataframe\">\n",
       "  <thead>\n",
       "    <tr style=\"text-align: right;\">\n",
       "      <th></th>\n",
       "      <th>PairID</th>\n",
       "      <th>Text</th>\n",
       "      <th>Score</th>\n",
       "      <th>text1</th>\n",
       "      <th>text2</th>\n",
       "    </tr>\n",
       "  </thead>\n",
       "  <tbody>\n",
       "    <tr>\n",
       "      <th>0</th>\n",
       "      <td>kin_train_00001</td>\n",
       "      <td>Izi serivisi benshi bigaragara ko batarasobanu...</td>\n",
       "      <td>0.31</td>\n",
       "      <td>Izi serivisi benshi bigaragara ko batarasobanu...</td>\n",
       "      <td>Col Dr Charles Furaha, ni umusirikare w’umugan...</td>\n",
       "    </tr>\n",
       "    <tr>\n",
       "      <th>1</th>\n",
       "      <td>kin_train_00002</td>\n",
       "      <td>Avuga ko agahinda ke katangiye gukura ubwo yar...</td>\n",
       "      <td>0.31</td>\n",
       "      <td>Avuga ko agahinda ke katangiye gukura ubwo yar...</td>\n",
       "      <td>Iyo akiri umwana aba avuga utugambo twinshi, u...</td>\n",
       "    </tr>\n",
       "    <tr>\n",
       "      <th>2</th>\n",
       "      <td>kin_train_00003</td>\n",
       "      <td>Igitego cya Rayon Sports cyatsinzwe n'umusore ...</td>\n",
       "      <td>0.44</td>\n",
       "      <td>Igitego cya Rayon Sports cyatsinzwe n'umusore ...</td>\n",
       "      <td>Rayon Sports itsinda igitego cya mbere ku muno...</td>\n",
       "    </tr>\n",
       "    <tr>\n",
       "      <th>3</th>\n",
       "      <td>kin_train_00004</td>\n",
       "      <td>Ubutumwa buri muri iyi ndirimbo ni ukumenya no...</td>\n",
       "      <td>0.57</td>\n",
       "      <td>Ubutumwa buri muri iyi ndirimbo ni ukumenya no...</td>\n",
       "      <td>Ndayishimiye yavuze ko ubutumwa buri muri iyi ...</td>\n",
       "    </tr>\n",
       "    <tr>\n",
       "      <th>4</th>\n",
       "      <td>kin_train_00005</td>\n",
       "      <td>Iwacu w’imyaka 20 y’amavuko yiga iby’ikoranabu...</td>\n",
       "      <td>0.50</td>\n",
       "      <td>Iwacu w’imyaka 20 y’amavuko yiga iby’ikoranabu...</td>\n",
       "      <td>Ubu yiga mu mwaka wa nyuma mu ishami ry’ikoran...</td>\n",
       "    </tr>\n",
       "  </tbody>\n",
       "</table>\n",
       "</div>"
      ],
      "text/plain": [
       "            PairID                                               Text  Score  \\\n",
       "0  kin_train_00001  Izi serivisi benshi bigaragara ko batarasobanu...   0.31   \n",
       "1  kin_train_00002  Avuga ko agahinda ke katangiye gukura ubwo yar...   0.31   \n",
       "2  kin_train_00003  Igitego cya Rayon Sports cyatsinzwe n'umusore ...   0.44   \n",
       "3  kin_train_00004  Ubutumwa buri muri iyi ndirimbo ni ukumenya no...   0.57   \n",
       "4  kin_train_00005  Iwacu w’imyaka 20 y’amavuko yiga iby’ikoranabu...   0.50   \n",
       "\n",
       "                                               text1  \\\n",
       "0  Izi serivisi benshi bigaragara ko batarasobanu...   \n",
       "1  Avuga ko agahinda ke katangiye gukura ubwo yar...   \n",
       "2  Igitego cya Rayon Sports cyatsinzwe n'umusore ...   \n",
       "3  Ubutumwa buri muri iyi ndirimbo ni ukumenya no...   \n",
       "4  Iwacu w’imyaka 20 y’amavuko yiga iby’ikoranabu...   \n",
       "\n",
       "                                               text2  \n",
       "0  Col Dr Charles Furaha, ni umusirikare w’umugan...  \n",
       "1  Iyo akiri umwana aba avuga utugambo twinshi, u...  \n",
       "2  Rayon Sports itsinda igitego cya mbere ku muno...  \n",
       "3  Ndayishimiye yavuze ko ubutumwa buri muri iyi ...  \n",
       "4  Ubu yiga mu mwaka wa nyuma mu ishami ry’ikoran...  "
      ]
     },
     "execution_count": 144,
     "metadata": {},
     "output_type": "execute_result"
    }
   ],
   "source": [
    "df.head()"
   ]
  },
  {
   "cell_type": "code",
   "execution_count": 145,
   "id": "f15d12ff-870d-454c-bed3-bde09c192396",
   "metadata": {},
   "outputs": [],
   "source": [
    "cos = nn.CosineSimilarity(dim=-1, eps=1e-6)"
   ]
  },
  {
   "cell_type": "code",
   "execution_count": 16,
   "id": "0ebece41-92a2-48d2-b798-aba87af0fa3b",
   "metadata": {},
   "outputs": [],
   "source": [
    "all_translations = defaultdict(dict)"
   ]
  },
  {
   "cell_type": "code",
   "execution_count": 146,
   "id": "17151103-74dd-4ccd-b2f7-131dc7314d9d",
   "metadata": {},
   "outputs": [],
   "source": [
    "@torch.no_grad()\n",
    "def get_transolations(tmodel_name, df, batch_size=16, split=1.0):\n",
    "    tmodel = AutoModelForSeq2SeqLM.from_pretrained(tmodel_name)\n",
    "    ttokenizer = AutoTokenizer.from_pretrained(tmodel_name)\n",
    "    source = \"tel_Telu\"\n",
    "    target = \"eng_Latn\"\n",
    "    task_name = 'translation'\n",
    "    # if tmodel_name.index(\"mbart\") != -1: task_name = \"translation_te_to_en\"\n",
    "    translator = pipeline(task_name, model=tmodel, tokenizer=ttokenizer, src_lang=source, tgt_lang=target, batch_size=batch_size, device=DEVICE)\n",
    "\n",
    "    df = df.sample(frac=split, random_state=RANDOM_SEED)\n",
    "\n",
    "    texts = []\n",
    "    for i, row in df.iterrows():\n",
    "        text1 = row['text1']\n",
    "        text2 = row['text2']\n",
    "        texts.append(text1)\n",
    "        texts.append(text2)\n",
    "    translations = translator(texts, max_length=400)\n",
    "    translations = [x['translation_text'] for x in translations]\n",
    "\n",
    "    nw_translation = {k: v for k, v in zip(texts, translations)}\n",
    "\n",
    "    print(texts[0])\n",
    "    print(translations[0])\n",
    "\n",
    "    return df, translations\n",
    "\n",
    "@torch.no_grad()\n",
    "def get_output(translations, smodel_name, df, test=False):\n",
    "    smodel = SentenceTransformer(smodel_name)\n",
    "    smodel = smodel.to(DEVICE)\n",
    "\n",
    "    embs = smodel.encode(translations, convert_to_tensor=True, device=DEVICE)\n",
    "    emb1 = []\n",
    "    emb2 = []\n",
    "    for i in range(0, embs.size(0), 2):\n",
    "        emb1.append(embs[i, :])\n",
    "        emb2.append(embs[i+1, :])\n",
    "    emb1 = torch.stack(emb1).float()\n",
    "    emb2 = torch.stack(emb2).float()\n",
    "    \n",
    "    y_hat = cos(emb1, emb2)\n",
    "\n",
    "    if test: return y_hat\n",
    "    y = torch.tensor(df['Score'].tolist())\n",
    "    score = stats.spearmanr(y.cpu().numpy(), y_hat.cpu().numpy())[0]\n",
    "    return score"
   ]
  },
  {
   "cell_type": "code",
   "execution_count": 147,
   "id": "6b1cb9bd-aa45-443e-b010-3ed55891c1e0",
   "metadata": {},
   "outputs": [
    {
     "name": "stdout",
     "output_type": "stream",
     "text": [
      "******* facebook/nllb-200-distilled-600M *******\n",
      "Umunyamabanga nshingwabikorwa wa CNLG, Dr Bizimana Jean Damascène nawe yari ahari.\n",
      "The CNLG's deputy secretary, Dr Bizimana Jean Damascène, was also present.\n",
      "facebook/nllb-200-distilled-600M                                       sentence-transformers/sentence-t5-xxl                                  0.48022211816185967\n",
      "\n"
     ]
    },
    {
     "ename": "KeyboardInterrupt",
     "evalue": "",
     "output_type": "error",
     "traceback": [
      "\u001b[0;31m---------------------------------------------------------------------------\u001b[0m",
      "\u001b[0;31mKeyboardInterrupt\u001b[0m                         Traceback (most recent call last)",
      "Input \u001b[0;32mIn [147]\u001b[0m, in \u001b[0;36m<cell line: 3>\u001b[0;34m()\u001b[0m\n\u001b[1;32m      6\u001b[0m curr_df, translations \u001b[38;5;241m=\u001b[39m get_transolations(tmodel, df, batch_size\u001b[38;5;241m=\u001b[39mbsz, split\u001b[38;5;241m=\u001b[39m\u001b[38;5;241m1.0\u001b[39m)\n\u001b[1;32m      7\u001b[0m \u001b[38;5;28;01mfor\u001b[39;00m smodel \u001b[38;5;129;01min\u001b[39;00m STS_MODELS:\n\u001b[0;32m----> 8\u001b[0m     curr_res \u001b[38;5;241m=\u001b[39m \u001b[43mget_output\u001b[49m\u001b[43m(\u001b[49m\u001b[43mtranslations\u001b[49m\u001b[43m,\u001b[49m\u001b[43m \u001b[49m\u001b[43msmodel\u001b[49m\u001b[43m,\u001b[49m\u001b[43m \u001b[49m\u001b[43mcurr_df\u001b[49m\u001b[43m)\u001b[49m\n\u001b[1;32m      9\u001b[0m     result \u001b[38;5;241m=\u001b[39m \u001b[38;5;124mf\u001b[39m\u001b[38;5;124m\"\u001b[39m\u001b[38;5;132;01m{\u001b[39;00mtmodel\u001b[38;5;132;01m}\u001b[39;00m\u001b[38;5;124m\"\u001b[39m\u001b[38;5;241m.\u001b[39mljust(\u001b[38;5;241m70\u001b[39m) \u001b[38;5;241m+\u001b[39m \u001b[38;5;124m\"\u001b[39m\u001b[38;5;124m \u001b[39m\u001b[38;5;124m\"\u001b[39m \u001b[38;5;241m+\u001b[39m \u001b[38;5;124mf\u001b[39m\u001b[38;5;124m\"\u001b[39m\u001b[38;5;132;01m{\u001b[39;00msmodel\u001b[38;5;132;01m}\u001b[39;00m\u001b[38;5;124m\"\u001b[39m\u001b[38;5;241m.\u001b[39mljust(\u001b[38;5;241m70\u001b[39m) \u001b[38;5;241m+\u001b[39m \u001b[38;5;124m\"\u001b[39m\u001b[38;5;124m \u001b[39m\u001b[38;5;124m\"\u001b[39m \u001b[38;5;241m+\u001b[39m \u001b[38;5;28mstr\u001b[39m(curr_res)\n\u001b[1;32m     10\u001b[0m     \u001b[38;5;28mprint\u001b[39m(result)\n",
      "File \u001b[0;32m~/.conda/envs/pl/lib/python3.10/site-packages/torch/utils/_contextlib.py:115\u001b[0m, in \u001b[0;36mcontext_decorator.<locals>.decorate_context\u001b[0;34m(*args, **kwargs)\u001b[0m\n\u001b[1;32m    112\u001b[0m \u001b[38;5;129m@functools\u001b[39m\u001b[38;5;241m.\u001b[39mwraps(func)\n\u001b[1;32m    113\u001b[0m \u001b[38;5;28;01mdef\u001b[39;00m \u001b[38;5;21mdecorate_context\u001b[39m(\u001b[38;5;241m*\u001b[39margs, \u001b[38;5;241m*\u001b[39m\u001b[38;5;241m*\u001b[39mkwargs):\n\u001b[1;32m    114\u001b[0m     \u001b[38;5;28;01mwith\u001b[39;00m ctx_factory():\n\u001b[0;32m--> 115\u001b[0m         \u001b[38;5;28;01mreturn\u001b[39;00m \u001b[43mfunc\u001b[49m\u001b[43m(\u001b[49m\u001b[38;5;241;43m*\u001b[39;49m\u001b[43margs\u001b[49m\u001b[43m,\u001b[49m\u001b[43m \u001b[49m\u001b[38;5;241;43m*\u001b[39;49m\u001b[38;5;241;43m*\u001b[39;49m\u001b[43mkwargs\u001b[49m\u001b[43m)\u001b[49m\n",
      "Input \u001b[0;32mIn [146]\u001b[0m, in \u001b[0;36mget_output\u001b[0;34m(translations, smodel_name, df, test)\u001b[0m\n\u001b[1;32m     31\u001b[0m smodel \u001b[38;5;241m=\u001b[39m SentenceTransformer(smodel_name)\n\u001b[1;32m     32\u001b[0m smodel \u001b[38;5;241m=\u001b[39m smodel\u001b[38;5;241m.\u001b[39mto(DEVICE)\n\u001b[0;32m---> 34\u001b[0m embs \u001b[38;5;241m=\u001b[39m \u001b[43msmodel\u001b[49m\u001b[38;5;241;43m.\u001b[39;49m\u001b[43mencode\u001b[49m\u001b[43m(\u001b[49m\u001b[43mtranslations\u001b[49m\u001b[43m,\u001b[49m\u001b[43m \u001b[49m\u001b[43mconvert_to_tensor\u001b[49m\u001b[38;5;241;43m=\u001b[39;49m\u001b[38;5;28;43;01mTrue\u001b[39;49;00m\u001b[43m,\u001b[49m\u001b[43m \u001b[49m\u001b[43mdevice\u001b[49m\u001b[38;5;241;43m=\u001b[39;49m\u001b[43mDEVICE\u001b[49m\u001b[43m)\u001b[49m\n\u001b[1;32m     35\u001b[0m emb1 \u001b[38;5;241m=\u001b[39m []\n\u001b[1;32m     36\u001b[0m emb2 \u001b[38;5;241m=\u001b[39m []\n",
      "File \u001b[0;32m~/.conda/envs/pl/lib/python3.10/site-packages/sentence_transformers/SentenceTransformer.py:162\u001b[0m, in \u001b[0;36mSentenceTransformer.encode\u001b[0;34m(self, sentences, batch_size, show_progress_bar, output_value, convert_to_numpy, convert_to_tensor, device, normalize_embeddings)\u001b[0m\n\u001b[1;32m    160\u001b[0m sentences_batch \u001b[38;5;241m=\u001b[39m sentences_sorted[start_index:start_index\u001b[38;5;241m+\u001b[39mbatch_size]\n\u001b[1;32m    161\u001b[0m features \u001b[38;5;241m=\u001b[39m \u001b[38;5;28mself\u001b[39m\u001b[38;5;241m.\u001b[39mtokenize(sentences_batch)\n\u001b[0;32m--> 162\u001b[0m features \u001b[38;5;241m=\u001b[39m \u001b[43mbatch_to_device\u001b[49m\u001b[43m(\u001b[49m\u001b[43mfeatures\u001b[49m\u001b[43m,\u001b[49m\u001b[43m \u001b[49m\u001b[43mdevice\u001b[49m\u001b[43m)\u001b[49m\n\u001b[1;32m    164\u001b[0m \u001b[38;5;28;01mwith\u001b[39;00m torch\u001b[38;5;241m.\u001b[39mno_grad():\n\u001b[1;32m    165\u001b[0m     out_features \u001b[38;5;241m=\u001b[39m \u001b[38;5;28mself\u001b[39m\u001b[38;5;241m.\u001b[39mforward(features)\n",
      "File \u001b[0;32m~/.conda/envs/pl/lib/python3.10/site-packages/sentence_transformers/util.py:300\u001b[0m, in \u001b[0;36mbatch_to_device\u001b[0;34m(batch, target_device)\u001b[0m\n\u001b[1;32m    298\u001b[0m \u001b[38;5;28;01mfor\u001b[39;00m key \u001b[38;5;129;01min\u001b[39;00m batch:\n\u001b[1;32m    299\u001b[0m     \u001b[38;5;28;01mif\u001b[39;00m \u001b[38;5;28misinstance\u001b[39m(batch[key], Tensor):\n\u001b[0;32m--> 300\u001b[0m         batch[key] \u001b[38;5;241m=\u001b[39m \u001b[43mbatch\u001b[49m\u001b[43m[\u001b[49m\u001b[43mkey\u001b[49m\u001b[43m]\u001b[49m\u001b[38;5;241;43m.\u001b[39;49m\u001b[43mto\u001b[49m\u001b[43m(\u001b[49m\u001b[43mtarget_device\u001b[49m\u001b[43m)\u001b[49m\n\u001b[1;32m    301\u001b[0m \u001b[38;5;28;01mreturn\u001b[39;00m batch\n",
      "\u001b[0;31mKeyboardInterrupt\u001b[0m: "
     ]
    }
   ],
   "source": [
    "results = defaultdict(dict)\n",
    "\n",
    "for tmodel, bsz in TRANSLATION_MODELS:\n",
    "    try:\n",
    "        print(f\"******* {tmodel} *******\")\n",
    "        curr_df, translations = get_transolations(tmodel, df, batch_size=bsz, split=1.0)  \n",
    "        for smodel in STS_MODELS:\n",
    "            curr_res = get_output(translations, smodel, curr_df)\n",
    "            result = f\"{tmodel}\".ljust(70) + \" \" + f\"{smodel}\".ljust(70) + \" \" + str(curr_res)\n",
    "            print(result)\n",
    "            results[tmodel][smodel] = curr_res\n",
    "    except Exception as e:\n",
    "        print(\"**** ERROR ****\")\n",
    "        print(tmodel, smodel)\n",
    "        print(e)\n",
    "    finally:\n",
    "        print()"
   ]
  },
  {
   "cell_type": "code",
   "execution_count": 21,
   "id": "ed5513f4-c640-47c8-ac3e-7d9317be0d01",
   "metadata": {},
   "outputs": [
    {
     "name": "stdout",
     "output_type": "stream",
     "text": [
      "defaultdict(<class 'dict'>,\n",
      "            {'facebook/mbart-large-50-many-to-many-mmt': {'sentence-transformers/all-MiniLM-L12-v1': 0.48226540531804185,\n",
      "                                                          'sentence-transformers/all-MiniLM-L12-v2': 0.49439394393661734,\n",
      "                                                          'sentence-transformers/all-MiniLM-L6-v2': 0.4869803048674303,\n",
      "                                                          'sentence-transformers/all-distilroberta-v1': 0.5040714737715142,\n",
      "                                                          'sentence-transformers/all-mpnet-base-v1': 0.4661510433130261,\n",
      "                                                          'sentence-transformers/all-mpnet-base-v2': 0.46543653653745115,\n",
      "                                                          'sentence-transformers/all-roberta-large-v1': 0.5110120223357795,\n",
      "                                                          'sentence-transformers/gtr-t5-large': 0.519788632834131,\n",
      "                                                          'sentence-transformers/gtr-t5-xl': 0.5388061230946628,\n",
      "                                                          'sentence-transformers/gtr-t5-xxl': 0.45928319777546744,\n",
      "                                                          'sentence-transformers/sentence-t5-large': 0.5355174093246606,\n",
      "                                                          'sentence-transformers/sentence-t5-xl': 0.513075465024589,\n",
      "                                                          'sentence-transformers/sentence-t5-xxl': 0.526398330472585},\n",
      "             'facebook/nllb-200-1.3B': {'sentence-transformers/all-MiniLM-L12-v1': 0.7646471123309739,\n",
      "                                        'sentence-transformers/all-MiniLM-L12-v2': 0.7680575026927647,\n",
      "                                        'sentence-transformers/all-MiniLM-L6-v2': 0.7608828143633249,\n",
      "                                        'sentence-transformers/all-distilroberta-v1': 0.7567627593893649,\n",
      "                                        'sentence-transformers/all-mpnet-base-v1': 0.7625355588700014,\n",
      "                                        'sentence-transformers/all-mpnet-base-v2': 0.761592757245777,\n",
      "                                        'sentence-transformers/all-roberta-large-v1': 0.7534372818246514,\n",
      "                                        'sentence-transformers/gtr-t5-large': 0.7813808244157118,\n",
      "                                        'sentence-transformers/gtr-t5-xl': 0.777210913265703,\n",
      "                                        'sentence-transformers/gtr-t5-xxl': 0.7786807536754812,\n",
      "                                        'sentence-transformers/sentence-t5-large': 0.7630698195685611,\n",
      "                                        'sentence-transformers/sentence-t5-xl': 0.7694969016204022,\n",
      "                                        'sentence-transformers/sentence-t5-xxl': 0.7727916368397041},\n",
      "             'facebook/nllb-200-3.3B': {'sentence-transformers/all-MiniLM-L12-v1': 0.7692610399153085,\n",
      "                                        'sentence-transformers/all-MiniLM-L12-v2': 0.768943157501434,\n",
      "                                        'sentence-transformers/all-MiniLM-L6-v2': 0.7732454097724689,\n",
      "                                        'sentence-transformers/all-distilroberta-v1': 0.7648049314632841,\n",
      "                                        'sentence-transformers/all-mpnet-base-v1': 0.7674933143652817,\n",
      "                                        'sentence-transformers/all-mpnet-base-v2': 0.769246426988559,\n",
      "                                        'sentence-transformers/all-roberta-large-v1': 0.7645913337124497,\n",
      "                                        'sentence-transformers/gtr-t5-large': 0.7884191801900443,\n",
      "                                        'sentence-transformers/gtr-t5-xl': 0.7845862861380508,\n",
      "                                        'sentence-transformers/gtr-t5-xxl': 0.7837867662141917,\n",
      "                                        'sentence-transformers/sentence-t5-large': 0.7622497718918047,\n",
      "                                        'sentence-transformers/sentence-t5-xl': 0.770004307893183,\n",
      "                                        'sentence-transformers/sentence-t5-xxl': 0.7734091134432045},\n",
      "             'facebook/nllb-200-distilled-1.3B': {'sentence-transformers/all-MiniLM-L12-v1': 0.7660939613465491,\n",
      "                                                  'sentence-transformers/all-MiniLM-L12-v2': 0.7675553728179825,\n",
      "                                                  'sentence-transformers/all-MiniLM-L6-v2': 0.7680631850701842,\n",
      "                                                  'sentence-transformers/all-distilroberta-v1': 0.7598314756531698,\n",
      "                                                  'sentence-transformers/all-mpnet-base-v1': 0.7654358570383777,\n",
      "                                                  'sentence-transformers/all-mpnet-base-v2': 0.7632924079800691,\n",
      "                                                  'sentence-transformers/all-roberta-large-v1': 0.7567320029873698,\n",
      "                                                  'sentence-transformers/gtr-t5-large': 0.7799661541513397,\n",
      "                                                  'sentence-transformers/gtr-t5-xl': 0.7767546579354254,\n",
      "                                                  'sentence-transformers/gtr-t5-xxl': 0.7802246669730912,\n",
      "                                                  'sentence-transformers/sentence-t5-large': 0.7568360266447277,\n",
      "                                                  'sentence-transformers/sentence-t5-xl': 0.7648228012516205,\n",
      "                                                  'sentence-transformers/sentence-t5-xxl': 0.7652664739967883},\n",
      "             'facebook/nllb-200-distilled-600M': {'sentence-transformers/all-MiniLM-L12-v1': 0.7546167209799569,\n",
      "                                                  'sentence-transformers/all-MiniLM-L12-v2': 0.7598690719772142,\n",
      "                                                  'sentence-transformers/all-MiniLM-L6-v2': 0.7592416793711388,\n",
      "                                                  'sentence-transformers/all-distilroberta-v1': 0.7533680516751464,\n",
      "                                                  'sentence-transformers/all-mpnet-base-v1': 0.7532706242182873,\n",
      "                                                  'sentence-transformers/all-mpnet-base-v2': 0.754710775200846,\n",
      "                                                  'sentence-transformers/all-roberta-large-v1': 0.7533191435375858,\n",
      "                                                  'sentence-transformers/gtr-t5-large': 0.7674775090615709,\n",
      "                                                  'sentence-transformers/gtr-t5-xl': 0.7680891033851689,\n",
      "                                                  'sentence-transformers/gtr-t5-xxl': 0.7732801835431893,\n",
      "                                                  'sentence-transformers/sentence-t5-large': 0.7565544283055594,\n",
      "                                                  'sentence-transformers/sentence-t5-xl': 0.7645017359339104,\n",
      "                                                  'sentence-transformers/sentence-t5-xxl': 0.7650495175707478}})\n"
     ]
    }
   ],
   "source": [
    "pprint(results)"
   ]
  },
  {
   "cell_type": "code",
   "execution_count": 42,
   "id": "82b5d38c-82c9-439e-8b83-301bcb6dcce7",
   "metadata": {},
   "outputs": [
    {
     "data": {
      "text/plain": [
       "5"
      ]
     },
     "execution_count": 42,
     "metadata": {},
     "output_type": "execute_result"
    }
   ],
   "source": [
    "with open(\"./translations.pkl\", 'rb') as fp:\n",
    "    all_translations = pickle.load(fp)\n",
    "\n",
    "len(all_translations)"
   ]
  },
  {
   "cell_type": "code",
   "execution_count": 43,
   "id": "e7d66ebd-b821-41aa-ba6b-4189fce78fd7",
   "metadata": {},
   "outputs": [
    {
     "name": "stdout",
     "output_type": "stream",
     "text": [
      "amh  arq  ary  eng  esp  hau  kin  mar\ttel\n"
     ]
    }
   ],
   "source": [
    "!ls ./data/\"Track A\"/"
   ]
  },
  {
   "cell_type": "code",
   "execution_count": 82,
   "id": "2bf86bbd-ac47-443c-ab32-d1fe59db92ae",
   "metadata": {},
   "outputs": [],
   "source": [
    "dev_df = pd.read_csv(\"./data/Track A/tel/tel_dev.csv\")\n",
    "dev_df[\"text1\"] = dev_df[\"Text\"].map(lambda x: x.split(\"\\n\")[0].strip('\"'))\n",
    "dev_df[\"text2\"] = dev_df[\"Text\"].map(lambda x: x.split(\"\\n\")[1].strip('\"'))"
   ]
  },
  {
   "cell_type": "code",
   "execution_count": 83,
   "id": "7d3d3853-1897-4173-81b3-00a0ac514797",
   "metadata": {},
   "outputs": [
    {
     "data": {
      "text/html": [
       "<div>\n",
       "<style scoped>\n",
       "    .dataframe tbody tr th:only-of-type {\n",
       "        vertical-align: middle;\n",
       "    }\n",
       "\n",
       "    .dataframe tbody tr th {\n",
       "        vertical-align: top;\n",
       "    }\n",
       "\n",
       "    .dataframe thead th {\n",
       "        text-align: right;\n",
       "    }\n",
       "</style>\n",
       "<table border=\"1\" class=\"dataframe\">\n",
       "  <thead>\n",
       "    <tr style=\"text-align: right;\">\n",
       "      <th></th>\n",
       "      <th>PairID</th>\n",
       "      <th>Text</th>\n",
       "      <th>text1</th>\n",
       "      <th>text2</th>\n",
       "    </tr>\n",
       "  </thead>\n",
       "  <tbody>\n",
       "    <tr>\n",
       "      <th>0</th>\n",
       "      <td>TEL-dev-00001</td>\n",
       "      <td>\"బీజేపీ జాతీయ అధ్యక్షుడు అమిత్ షా నేడు రెండోరో...</td>\n",
       "      <td>బీజేపీ జాతీయ అధ్యక్షుడు అమిత్ షా నేడు రెండోరోజ...</td>\n",
       "      <td>బీజేపీ జాతీయ అధ్యక్షుడు అమిత్ షా గారు ఈ రోజు ర...</td>\n",
       "    </tr>\n",
       "    <tr>\n",
       "      <th>1</th>\n",
       "      <td>TEL-dev-00002</td>\n",
       "      <td>\"ఈ ఏడాది జనవరి 1వ తేదీ నాటికి ఢిల్లీలో 10,76,4...</td>\n",
       "      <td>ఈ ఏడాది జనవరి 1వ తేదీ నాటికి ఢిల్లీలో 10,76,46...</td>\n",
       "      <td>ఈ ఏడాది చివరి నాటికల్లా కంపెనీ ఈ అప్పుల్లో కొం...</td>\n",
       "    </tr>\n",
       "    <tr>\n",
       "      <th>2</th>\n",
       "      <td>TEL-dev-00003</td>\n",
       "      <td>\"ప్రతిపక్షాలు అనవసర రాద్ధాంతం చేస్తున్నాయి : హ...</td>\n",
       "      <td>ప్రతిపక్షాలు అనవసర రాద్ధాంతం చేస్తున్నాయి : హర...</td>\n",
       "      <td>హైదరాబాద్ : తెలంగాణ అభివృద్ధిని అడ్డుకునేందుకు...</td>\n",
       "    </tr>\n",
       "    <tr>\n",
       "      <th>3</th>\n",
       "      <td>TEL-dev-00004</td>\n",
       "      <td>\"హైదరాబాద్ : కాంగ్రెస్ పార్టీ అధికారంలోకి రాగా...</td>\n",
       "      <td>హైదరాబాద్ : కాంగ్రెస్ పార్టీ అధికారంలోకి రాగాన...</td>\n",
       "      <td>ఇందిరమ్మ ఇళ్లలో అక్రమాలు జరిగాయని టిఆర్ఎస్ నాయ...</td>\n",
       "    </tr>\n",
       "    <tr>\n",
       "      <th>4</th>\n",
       "      <td>TEL-dev-00005</td>\n",
       "      <td>\"ప్రజారాజధానిగా రూపుదిద్దేందుకు అవసరమైన పెట్టు...</td>\n",
       "      <td>ప్రజారాజధానిగా రూపుదిద్దేందుకు అవసరమైన పెట్టుబ...</td>\n",
       "      <td>ఈ ఒప్పం దం తక్షణమే అమల్లోకి వస్తుందని సంబంధిత ...</td>\n",
       "    </tr>\n",
       "  </tbody>\n",
       "</table>\n",
       "</div>"
      ],
      "text/plain": [
       "          PairID                                               Text  \\\n",
       "0  TEL-dev-00001  \"బీజేపీ జాతీయ అధ్యక్షుడు అమిత్ షా నేడు రెండోరో...   \n",
       "1  TEL-dev-00002  \"ఈ ఏడాది జనవరి 1వ తేదీ నాటికి ఢిల్లీలో 10,76,4...   \n",
       "2  TEL-dev-00003  \"ప్రతిపక్షాలు అనవసర రాద్ధాంతం చేస్తున్నాయి : హ...   \n",
       "3  TEL-dev-00004  \"హైదరాబాద్ : కాంగ్రెస్ పార్టీ అధికారంలోకి రాగా...   \n",
       "4  TEL-dev-00005  \"ప్రజారాజధానిగా రూపుదిద్దేందుకు అవసరమైన పెట్టు...   \n",
       "\n",
       "                                               text1  \\\n",
       "0  బీజేపీ జాతీయ అధ్యక్షుడు అమిత్ షా నేడు రెండోరోజ...   \n",
       "1  ఈ ఏడాది జనవరి 1వ తేదీ నాటికి ఢిల్లీలో 10,76,46...   \n",
       "2  ప్రతిపక్షాలు అనవసర రాద్ధాంతం చేస్తున్నాయి : హర...   \n",
       "3  హైదరాబాద్ : కాంగ్రెస్ పార్టీ అధికారంలోకి రాగాన...   \n",
       "4  ప్రజారాజధానిగా రూపుదిద్దేందుకు అవసరమైన పెట్టుబ...   \n",
       "\n",
       "                                               text2  \n",
       "0  బీజేపీ జాతీయ అధ్యక్షుడు అమిత్ షా గారు ఈ రోజు ర...  \n",
       "1  ఈ ఏడాది చివరి నాటికల్లా కంపెనీ ఈ అప్పుల్లో కొం...  \n",
       "2  హైదరాబాద్ : తెలంగాణ అభివృద్ధిని అడ్డుకునేందుకు...  \n",
       "3  ఇందిరమ్మ ఇళ్లలో అక్రమాలు జరిగాయని టిఆర్ఎస్ నాయ...  \n",
       "4  ఈ ఒప్పం దం తక్షణమే అమల్లోకి వస్తుందని సంబంధిత ...  "
      ]
     },
     "execution_count": 83,
     "metadata": {},
     "output_type": "execute_result"
    }
   ],
   "source": [
    "dev_df.head()"
   ]
  },
  {
   "cell_type": "code",
   "execution_count": 131,
   "id": "38486ef4-bf62-48fd-bf93-b431bc48f715",
   "metadata": {},
   "outputs": [
    {
     "name": "stdout",
     "output_type": "stream",
     "text": [
      "******* facebook/nllb-200-distilled-600M *******\n",
      "బాలీవుడ్ నటి ఆలియా భట్ తన పార్టీ గుర్తును ప్రకటించారు . ఎందుకంటే ఎక్కడికెళ్లినా ఈ మధ్య రాజకీయాల ప్రస్తావన ఆమెను వదిలి పెట్టడం లేదు .\n",
      "Bollywood actress Alia Bhatt has announced her party logo because nowhere she goes is a political reference to her.\n",
      "torch.Size([130])\n",
      "\n"
     ]
    }
   ],
   "source": [
    "results = defaultdict(dict)\n",
    "\n",
    "for tmodel, bsz in TRANSLATION_MODELS:\n",
    "    try:\n",
    "        print(f\"******* {tmodel} *******\")\n",
    "        curr_df, translations = get_transolations(tmodel, dev_df, batch_size=bsz, split=1.0)\n",
    "        for smodel in STS_MODELS[1:]:\n",
    "            out = get_output(translations, smodel, curr_df, test=True)\n",
    "            print(out.shape)\n",
    "            break\n",
    "    except Exception as e:\n",
    "        print(\"**** ERROR ****\")\n",
    "        print(tmodel, smodel)\n",
    "        print(e)\n",
    "    finally:\n",
    "        print()\n",
    "        break"
   ]
  },
  {
   "cell_type": "code",
   "execution_count": 134,
   "id": "592652b3-a55a-4cc4-90bd-c043c2e8d4f2",
   "metadata": {},
   "outputs": [
    {
     "data": {
      "text/html": [
       "<div>\n",
       "<style scoped>\n",
       "    .dataframe tbody tr th:only-of-type {\n",
       "        vertical-align: middle;\n",
       "    }\n",
       "\n",
       "    .dataframe tbody tr th {\n",
       "        vertical-align: top;\n",
       "    }\n",
       "\n",
       "    .dataframe thead th {\n",
       "        text-align: right;\n",
       "    }\n",
       "</style>\n",
       "<table border=\"1\" class=\"dataframe\">\n",
       "  <thead>\n",
       "    <tr style=\"text-align: right;\">\n",
       "      <th></th>\n",
       "      <th>PairID</th>\n",
       "      <th>Text</th>\n",
       "      <th>text1</th>\n",
       "      <th>text2</th>\n",
       "      <th>Pred_Score</th>\n",
       "    </tr>\n",
       "  </thead>\n",
       "  <tbody>\n",
       "    <tr>\n",
       "      <th>55</th>\n",
       "      <td>TEL-dev-00056</td>\n",
       "      <td>\"బాలీవుడ్ నటి ఆలియా భట్ తన పార్టీ గుర్తును ప్ర...</td>\n",
       "      <td>బాలీవుడ్ నటి ఆలియా భట్ తన పార్టీ గుర్తును ప్రక...</td>\n",
       "      <td>హిందీ నటి అలియా భట్ పార్టీ గుర్తును ప్రకటించిం...</td>\n",
       "      <td>0.942245</td>\n",
       "    </tr>\n",
       "    <tr>\n",
       "      <th>40</th>\n",
       "      <td>TEL-dev-00041</td>\n",
       "      <td>\"నీరవ్ మోదీ ఆయన బంధువు మెహుల్ చోక్సీలకు చెందిన...</td>\n",
       "      <td>నీరవ్ మోదీ ఆయన బంధువు మెహుల్ చోక్సీలకు చెందిన ...</td>\n",
       "      <td>స్వేచ్చాయుత వాణిజ్య ఒప్పందాల వల్ల ఇరు దేశాల మధ...</td>\n",
       "      <td>0.491731</td>\n",
       "    </tr>\n",
       "    <tr>\n",
       "      <th>19</th>\n",
       "      <td>TEL-dev-00020</td>\n",
       "      <td>\"ఈ సందర్భంగా కోహ్లి, అనుష్క బంధువులు, స్నేహితు...</td>\n",
       "      <td>ఈ సందర్భంగా కోహ్లి, అనుష్క బంధువులు, స్నేహితుల...</td>\n",
       "      <td>ఈ వీడియోను చెన్నై సూపర్ కింగ్స్ ట్విట్టర్ అకౌం...</td>\n",
       "      <td>0.603082</td>\n",
       "    </tr>\n",
       "    <tr>\n",
       "      <th>31</th>\n",
       "      <td>TEL-dev-00032</td>\n",
       "      <td>\"ఢిల్లీ దబాంగ్తో జరిగిన మ్యాచ్లో పాట్నా 13-33త...</td>\n",
       "      <td>ఢిల్లీ దబాంగ్తో జరిగిన మ్యాచ్లో పాట్నా 13-33తో...</td>\n",
       "      <td>డిఫెన్స్లో ఓ పట్టు పట్టిన ఢిల్లీ వరుస విజయాలతో...</td>\n",
       "      <td>0.757032</td>\n",
       "    </tr>\n",
       "    <tr>\n",
       "      <th>115</th>\n",
       "      <td>TEL-dev-00116</td>\n",
       "      <td>\"ఎపి రాజధాని అమరావతి శంకుస్థాపనకు రావాలని బాబు...</td>\n",
       "      <td>ఎపి రాజధాని అమరావతి శంకుస్థాపనకు రావాలని బాబు ...</td>\n",
       "      <td>25 చొప్పున సరఫరా చేస్తున్నామని. . అలాగే కేంద్ర...</td>\n",
       "      <td>0.523448</td>\n",
       "    </tr>\n",
       "    <tr>\n",
       "      <th>...</th>\n",
       "      <td>...</td>\n",
       "      <td>...</td>\n",
       "      <td>...</td>\n",
       "      <td>...</td>\n",
       "      <td>...</td>\n",
       "    </tr>\n",
       "    <tr>\n",
       "      <th>71</th>\n",
       "      <td>TEL-dev-00072</td>\n",
       "      <td>\"అనుభవం కలిగిన ఆటగాడిగా ధోనీ తనకు సూచనలు చేసే ...</td>\n",
       "      <td>అనుభవం కలిగిన ఆటగాడిగా ధోనీ తనకు సూచనలు చేసే వ...</td>\n",
       "      <td>ఇక, వికెట్ల వెనుక ఉంటూ ధోనీ బౌలర్లతో వ్యూహాలు ...</td>\n",
       "      <td>0.726495</td>\n",
       "    </tr>\n",
       "    <tr>\n",
       "      <th>106</th>\n",
       "      <td>TEL-dev-00107</td>\n",
       "      <td>\"కృష్ణ జింకల వేట కేసు : సల్మాన్ దోషి\"\\n\"జోథ్పూ...</td>\n",
       "      <td>కృష్ణ జింకల వేట కేసు : సల్మాన్ దోషి</td>\n",
       "      <td>జోథ్పూర్ : కృష్ణ జింకలను వేటాడిన కేసులో బాలీవు...</td>\n",
       "      <td>0.659634</td>\n",
       "    </tr>\n",
       "    <tr>\n",
       "      <th>14</th>\n",
       "      <td>TEL-dev-00015</td>\n",
       "      <td>\"ఈ ఒప్పందాలవల్ల సుమారుగా 2.01 లక్షలమందికి ఉపాధ...</td>\n",
       "      <td>ఈ ఒప్పందాలవల్ల సుమారుగా 2.01 లక్షలమందికి ఉపాధి...</td>\n",
       "      <td>అలాగే ప్రస్తుతం ఢిల్లీ-విజయవాడ మధ్య వారానికి మ...</td>\n",
       "      <td>0.477149</td>\n",
       "    </tr>\n",
       "    <tr>\n",
       "      <th>92</th>\n",
       "      <td>TEL-dev-00093</td>\n",
       "      <td>\"రెండో టెస్టులో ఆసీస్పై ప్రతికారం తీర్చుకునేంద...</td>\n",
       "      <td>రెండో టెస్టులో ఆసీస్పై ప్రతికారం తీర్చుకునేందు...</td>\n",
       "      <td>మార్చి 4న బెంగళూరులోని చిన్నస్వామి స్టేడియంలో ...</td>\n",
       "      <td>0.711676</td>\n",
       "    </tr>\n",
       "    <tr>\n",
       "      <th>102</th>\n",
       "      <td>TEL-dev-00103</td>\n",
       "      <td>\"పోలీసులు ముఖ్యమంత్రి బందోబస్తులో ఉండటంతో వారి...</td>\n",
       "      <td>పోలీసులు ముఖ్యమంత్రి బందోబస్తులో ఉండటంతో వారిక...</td>\n",
       "      <td>ఈ రికార్డుతో ఈ ఏడాది రిలీజైన బిగ్గెస్ట్ మూవీస్...</td>\n",
       "      <td>0.459399</td>\n",
       "    </tr>\n",
       "  </tbody>\n",
       "</table>\n",
       "<p>130 rows × 5 columns</p>\n",
       "</div>"
      ],
      "text/plain": [
       "            PairID                                               Text  \\\n",
       "55   TEL-dev-00056  \"బాలీవుడ్ నటి ఆలియా భట్ తన పార్టీ గుర్తును ప్ర...   \n",
       "40   TEL-dev-00041  \"నీరవ్ మోదీ ఆయన బంధువు మెహుల్ చోక్సీలకు చెందిన...   \n",
       "19   TEL-dev-00020  \"ఈ సందర్భంగా కోహ్లి, అనుష్క బంధువులు, స్నేహితు...   \n",
       "31   TEL-dev-00032  \"ఢిల్లీ దబాంగ్తో జరిగిన మ్యాచ్లో పాట్నా 13-33త...   \n",
       "115  TEL-dev-00116  \"ఎపి రాజధాని అమరావతి శంకుస్థాపనకు రావాలని బాబు...   \n",
       "..             ...                                                ...   \n",
       "71   TEL-dev-00072  \"అనుభవం కలిగిన ఆటగాడిగా ధోనీ తనకు సూచనలు చేసే ...   \n",
       "106  TEL-dev-00107  \"కృష్ణ జింకల వేట కేసు : సల్మాన్ దోషి\"\\n\"జోథ్పూ...   \n",
       "14   TEL-dev-00015  \"ఈ ఒప్పందాలవల్ల సుమారుగా 2.01 లక్షలమందికి ఉపాధ...   \n",
       "92   TEL-dev-00093  \"రెండో టెస్టులో ఆసీస్పై ప్రతికారం తీర్చుకునేంద...   \n",
       "102  TEL-dev-00103  \"పోలీసులు ముఖ్యమంత్రి బందోబస్తులో ఉండటంతో వారి...   \n",
       "\n",
       "                                                 text1  \\\n",
       "55   బాలీవుడ్ నటి ఆలియా భట్ తన పార్టీ గుర్తును ప్రక...   \n",
       "40   నీరవ్ మోదీ ఆయన బంధువు మెహుల్ చోక్సీలకు చెందిన ...   \n",
       "19   ఈ సందర్భంగా కోహ్లి, అనుష్క బంధువులు, స్నేహితుల...   \n",
       "31   ఢిల్లీ దబాంగ్తో జరిగిన మ్యాచ్లో పాట్నా 13-33తో...   \n",
       "115  ఎపి రాజధాని అమరావతి శంకుస్థాపనకు రావాలని బాబు ...   \n",
       "..                                                 ...   \n",
       "71   అనుభవం కలిగిన ఆటగాడిగా ధోనీ తనకు సూచనలు చేసే వ...   \n",
       "106                కృష్ణ జింకల వేట కేసు : సల్మాన్ దోషి   \n",
       "14   ఈ ఒప్పందాలవల్ల సుమారుగా 2.01 లక్షలమందికి ఉపాధి...   \n",
       "92   రెండో టెస్టులో ఆసీస్పై ప్రతికారం తీర్చుకునేందు...   \n",
       "102  పోలీసులు ముఖ్యమంత్రి బందోబస్తులో ఉండటంతో వారిక...   \n",
       "\n",
       "                                                 text2  Pred_Score  \n",
       "55   హిందీ నటి అలియా భట్ పార్టీ గుర్తును ప్రకటించిం...    0.942245  \n",
       "40   స్వేచ్చాయుత వాణిజ్య ఒప్పందాల వల్ల ఇరు దేశాల మధ...    0.491731  \n",
       "19   ఈ వీడియోను చెన్నై సూపర్ కింగ్స్ ట్విట్టర్ అకౌం...    0.603082  \n",
       "31   డిఫెన్స్లో ఓ పట్టు పట్టిన ఢిల్లీ వరుస విజయాలతో...    0.757032  \n",
       "115  25 చొప్పున సరఫరా చేస్తున్నామని. . అలాగే కేంద్ర...    0.523448  \n",
       "..                                                 ...         ...  \n",
       "71   ఇక, వికెట్ల వెనుక ఉంటూ ధోనీ బౌలర్లతో వ్యూహాలు ...    0.726495  \n",
       "106  జోథ్పూర్ : కృష్ణ జింకలను వేటాడిన కేసులో బాలీవు...    0.659634  \n",
       "14   అలాగే ప్రస్తుతం ఢిల్లీ-విజయవాడ మధ్య వారానికి మ...    0.477149  \n",
       "92   మార్చి 4న బెంగళూరులోని చిన్నస్వామి స్టేడియంలో ...    0.711676  \n",
       "102  ఈ రికార్డుతో ఈ ఏడాది రిలీజైన బిగ్గెస్ట్ మూవీస్...    0.459399  \n",
       "\n",
       "[130 rows x 5 columns]"
      ]
     },
     "execution_count": 134,
     "metadata": {},
     "output_type": "execute_result"
    }
   ],
   "source": [
    "curr_df['Pred_Score'] = out.tolist()\n",
    "curr_df"
   ]
  },
  {
   "cell_type": "code",
   "execution_count": 135,
   "id": "26422931-25dd-42a6-ad2a-1cc9eafbd6a4",
   "metadata": {},
   "outputs": [],
   "source": [
    "import os\n",
    "os.remove('./out/pred_tel_a.csv')\n",
    "curr_df.to_csv('./out/pred_tel_a.csv', index=False, columns=['PairID', 'Pred_Score'])"
   ]
  },
  {
   "cell_type": "code",
   "execution_count": 136,
   "id": "c5e6cf8a-99aa-4d58-ac3c-a03e133c2d69",
   "metadata": {},
   "outputs": [
    {
     "name": "stdout",
     "output_type": "stream",
     "text": [
      "pred_tel_a.csv\n"
     ]
    }
   ],
   "source": [
    "!ls out"
   ]
  },
  {
   "cell_type": "code",
   "execution_count": 137,
   "id": "0bbd03b0-a191-4b97-ae48-a58c30a1eddc",
   "metadata": {},
   "outputs": [],
   "source": [
    "tmp = pd.read_csv('./out/pred_tel_a.csv')"
   ]
  },
  {
   "cell_type": "code",
   "execution_count": 138,
   "id": "f7021439-3828-4e2a-9acb-9d80c4a5265c",
   "metadata": {},
   "outputs": [
    {
     "data": {
      "text/plain": [
       "(['PairID', 'Pred_Score'], 2)"
      ]
     },
     "execution_count": 138,
     "metadata": {},
     "output_type": "execute_result"
    }
   ],
   "source": [
    "list(tmp.columns), len(tmp.columns)"
   ]
  },
  {
   "cell_type": "code",
   "execution_count": 139,
   "id": "19046333-7430-4ffe-bc8f-d2470d6f52b0",
   "metadata": {},
   "outputs": [
    {
     "data": {
      "text/html": [
       "<div>\n",
       "<style scoped>\n",
       "    .dataframe tbody tr th:only-of-type {\n",
       "        vertical-align: middle;\n",
       "    }\n",
       "\n",
       "    .dataframe tbody tr th {\n",
       "        vertical-align: top;\n",
       "    }\n",
       "\n",
       "    .dataframe thead th {\n",
       "        text-align: right;\n",
       "    }\n",
       "</style>\n",
       "<table border=\"1\" class=\"dataframe\">\n",
       "  <thead>\n",
       "    <tr style=\"text-align: right;\">\n",
       "      <th></th>\n",
       "      <th>PairID</th>\n",
       "      <th>Pred_Score</th>\n",
       "    </tr>\n",
       "  </thead>\n",
       "  <tbody>\n",
       "    <tr>\n",
       "      <th>0</th>\n",
       "      <td>TEL-dev-00056</td>\n",
       "      <td>0.942245</td>\n",
       "    </tr>\n",
       "    <tr>\n",
       "      <th>1</th>\n",
       "      <td>TEL-dev-00041</td>\n",
       "      <td>0.491731</td>\n",
       "    </tr>\n",
       "    <tr>\n",
       "      <th>2</th>\n",
       "      <td>TEL-dev-00020</td>\n",
       "      <td>0.603082</td>\n",
       "    </tr>\n",
       "    <tr>\n",
       "      <th>3</th>\n",
       "      <td>TEL-dev-00032</td>\n",
       "      <td>0.757032</td>\n",
       "    </tr>\n",
       "    <tr>\n",
       "      <th>4</th>\n",
       "      <td>TEL-dev-00116</td>\n",
       "      <td>0.523448</td>\n",
       "    </tr>\n",
       "  </tbody>\n",
       "</table>\n",
       "</div>"
      ],
      "text/plain": [
       "          PairID  Pred_Score\n",
       "0  TEL-dev-00056    0.942245\n",
       "1  TEL-dev-00041    0.491731\n",
       "2  TEL-dev-00020    0.603082\n",
       "3  TEL-dev-00032    0.757032\n",
       "4  TEL-dev-00116    0.523448"
      ]
     },
     "execution_count": 139,
     "metadata": {},
     "output_type": "execute_result"
    }
   ],
   "source": [
    "tmp.head()"
   ]
  },
  {
   "cell_type": "markdown",
   "id": "e87d341c-3159-4fe7-bf4a-c49a1ff676e7",
   "metadata": {},
   "source": [
    "# Subtask B"
   ]
  },
  {
   "cell_type": "code",
   "execution_count": 154,
   "id": "3bdd6d4a-7c78-49fd-9926-6dba5dfe9004",
   "metadata": {},
   "outputs": [
    {
     "name": "stdout",
     "output_type": "stream",
     "text": [
      "amh  arq  ary  eng  esp  hau  kin  mar\ttel\n"
     ]
    }
   ],
   "source": [
    "!ls data/\"Track A\"/"
   ]
  },
  {
   "cell_type": "code",
   "execution_count": 130,
   "id": "9660a67b-6f48-404c-9781-0966288a48d5",
   "metadata": {},
   "outputs": [
    {
     "name": "stdout",
     "output_type": "stream",
     "text": [
      "PairID,Text\n",
      "HIN-pilot-00001,\"\"\"जॉर्जियाई अधिकारियों ने बताया कि 8 अगस्त 2008 को पोटी के काला सागर बंदरगाह पर लगभग 1 हवाई हमला तो हुआ था।\"\"\n",
      "\"\"2008 में जॉर्जिया के लोगों ने बताया कि 8 अगस्त को पोटी नाम की जगह पर हवाई जहाज़ से हमला हुआ था. पोटी काला सागर के पास एक बंदरगाह है।\"\"\"\n",
      "HIN-pilot-00002,\"\"\"पुलिस आरोपित से अवैध हथियार की खरीद-फरोख्त के बारे में पूछताछ कर ही है।\"\"\n",
      "\"\"पर हमें दीर्घावधि के दृष्टिकोण से सोचना होगा।\"\"\"\n",
      "HIN-pilot-00003,\"\"\"कई बार पहले भी बच्ची को जान से मारने की धमकी दे चुका था।\"\"\n",
      "\"\"इसी बात के विवाद में वह मायके भी चली गई थी।\"\"\"\n",
      "HIN-pilot-00004,\"\"\"धुंध से परेशान हैं, हिमाचल की पहाडियों का रूख करें\"\"\n",
      "\"\"बोस ने कहा कि हो सकता है कि कोई ऐसा कर रहा हो।\"\"\"\n",
      "HIN-pilot-00005,\"\"\"इस दौरान वह दो बार गर्भवती हुई और चार बार उसने खुदकुशी की कोशिश भी की।\"\"\n"
     ]
    }
   ],
   "source": [
    "!head -10 data/\"Track C\"/hin/hin_dev.csv"
   ]
  },
  {
   "cell_type": "code",
   "execution_count": 156,
   "id": "ee1b2b8c-5c8d-48fa-852a-4d780a0dee84",
   "metadata": {},
   "outputs": [
    {
     "data": {
      "text/html": [
       "<div>\n",
       "<style scoped>\n",
       "    .dataframe tbody tr th:only-of-type {\n",
       "        vertical-align: middle;\n",
       "    }\n",
       "\n",
       "    .dataframe tbody tr th {\n",
       "        vertical-align: top;\n",
       "    }\n",
       "\n",
       "    .dataframe thead th {\n",
       "        text-align: right;\n",
       "    }\n",
       "</style>\n",
       "<table border=\"1\" class=\"dataframe\">\n",
       "  <thead>\n",
       "    <tr style=\"text-align: right;\">\n",
       "      <th></th>\n",
       "      <th>PairID</th>\n",
       "      <th>Text</th>\n",
       "      <th>text1</th>\n",
       "      <th>text2</th>\n",
       "    </tr>\n",
       "  </thead>\n",
       "  <tbody>\n",
       "    <tr>\n",
       "      <th>0</th>\n",
       "      <td>HIN-dev-00001</td>\n",
       "      <td>\"जालपुरा में बुधवार को फर्जी एसीबी अधिकारी को ...</td>\n",
       "      <td>जालपुरा में बुधवार को फर्जी एसीबी अधिकारी को अ...</td>\n",
       "      <td>आरोपी एसीबी अधिकारी बनकर लोगो से चौथ वसूली कर ...</td>\n",
       "    </tr>\n",
       "    <tr>\n",
       "      <th>1</th>\n",
       "      <td>HIN-dev-00002</td>\n",
       "      <td>\"राज्यपाल नहीं पहुंच सके, इसलिए उपराज्यपाल ने ...</td>\n",
       "      <td>राज्यपाल नहीं पहुंच सके, इसलिए उपराज्यपाल ने व...</td>\n",
       "      <td>राज्यपाल उपलब्ध नहीं थे, इसलिए उपराज्यपाल ने म...</td>\n",
       "    </tr>\n",
       "    <tr>\n",
       "      <th>2</th>\n",
       "      <td>HIN-dev-00003</td>\n",
       "      <td>\"बात कर रहे हैं फिल्म 'दिलवाले' की, जिसमें वरु...</td>\n",
       "      <td>बात कर रहे हैं फिल्म 'दिलवाले' की, जिसमें वरुण...</td>\n",
       "      <td>अभिनेता वरुण धवन ने कहा है कि अभिनेता-पहलवान ड...</td>\n",
       "    </tr>\n",
       "    <tr>\n",
       "      <th>3</th>\n",
       "      <td>HIN-dev-00004</td>\n",
       "      <td>\"घटना बेगूसराय के नीमाचांदपुरा थाना क्षेत्र की...</td>\n",
       "      <td>घटना बेगूसराय के नीमाचांदपुरा थाना क्षेत्र की है।</td>\n",
       "      <td>प्राप्त जानकारी के अनुसार घटना डरबन में घटित ह...</td>\n",
       "    </tr>\n",
       "    <tr>\n",
       "      <th>4</th>\n",
       "      <td>HIN-dev-00005</td>\n",
       "      <td>\"शिकायत मिलने पर छावनी पुलिस ने तीनों आरोपियों...</td>\n",
       "      <td>शिकायत मिलने पर छावनी पुलिस ने तीनों आरोपियों ...</td>\n",
       "      <td>पुलिस ने मामला दर्ज कर लिया है, लेकिन अभी तक क...</td>\n",
       "    </tr>\n",
       "  </tbody>\n",
       "</table>\n",
       "</div>"
      ],
      "text/plain": [
       "          PairID                                               Text  \\\n",
       "0  HIN-dev-00001  \"जालपुरा में बुधवार को फर्जी एसीबी अधिकारी को ...   \n",
       "1  HIN-dev-00002  \"राज्यपाल नहीं पहुंच सके, इसलिए उपराज्यपाल ने ...   \n",
       "2  HIN-dev-00003  \"बात कर रहे हैं फिल्म 'दिलवाले' की, जिसमें वरु...   \n",
       "3  HIN-dev-00004  \"घटना बेगूसराय के नीमाचांदपुरा थाना क्षेत्र की...   \n",
       "4  HIN-dev-00005  \"शिकायत मिलने पर छावनी पुलिस ने तीनों आरोपियों...   \n",
       "\n",
       "                                               text1  \\\n",
       "0  जालपुरा में बुधवार को फर्जी एसीबी अधिकारी को अ...   \n",
       "1  राज्यपाल नहीं पहुंच सके, इसलिए उपराज्यपाल ने व...   \n",
       "2  बात कर रहे हैं फिल्म 'दिलवाले' की, जिसमें वरुण...   \n",
       "3  घटना बेगूसराय के नीमाचांदपुरा थाना क्षेत्र की है।   \n",
       "4  शिकायत मिलने पर छावनी पुलिस ने तीनों आरोपियों ...   \n",
       "\n",
       "                                               text2  \n",
       "0  आरोपी एसीबी अधिकारी बनकर लोगो से चौथ वसूली कर ...  \n",
       "1  राज्यपाल उपलब्ध नहीं थे, इसलिए उपराज्यपाल ने म...  \n",
       "2  अभिनेता वरुण धवन ने कहा है कि अभिनेता-पहलवान ड...  \n",
       "3  प्राप्त जानकारी के अनुसार घटना डरबन में घटित ह...  \n",
       "4  पुलिस ने मामला दर्ज कर लिया है, लेकिन अभी तक क...  "
      ]
     },
     "execution_count": 156,
     "metadata": {},
     "output_type": "execute_result"
    }
   ],
   "source": [
    "dev_df = pd.read_csv(\"data/Track B/hin/hin_dev.csv\")\n",
    "dev_df[\"text1\"] = dev_df[\"Text\"].map(lambda x: x.split(\"\\n\")[0].strip('\"'))\n",
    "dev_df[\"text2\"] = dev_df[\"Text\"].map(lambda x: x.split(\"\\n\")[1].strip('\"'))\n",
    "dev_df.head()"
   ]
  },
  {
   "cell_type": "code",
   "execution_count": 158,
   "id": "fedc7819-caf3-4689-b664-ec6b870bb7bc",
   "metadata": {},
   "outputs": [
    {
     "name": "stdout",
     "output_type": "stream",
     "text": [
      "******* facebook/nllb-200-distilled-600M *******\n",
      "कोतवाली इलाके में शादी का झांसा देकर एक महिला से देहशोषण करने का मामला सामने आया है।\n",
      "A woman has been charged with sexual assault in the Kotwali area.\n"
     ]
    },
    {
     "name": "stderr",
     "output_type": "stream",
     "text": [
      "No sentence-transformers model found with name /home/sroydip1/.cache/torch/sentence_transformers/bert-base-uncased. Creating a new one with MEAN pooling.\n"
     ]
    },
    {
     "name": "stdout",
     "output_type": "stream",
     "text": [
      "torch.Size([288])\n",
      "\n"
     ]
    }
   ],
   "source": [
    "results = defaultdict(dict)\n",
    "\n",
    "for tmodel, bsz in TRANSLATION_MODELS:\n",
    "    try:\n",
    "        print(f\"******* {tmodel} *******\")\n",
    "        curr_df, translations = get_transolations(tmodel, dev_df, batch_size=bsz, split=1.0)\n",
    "        for smodel in UNSUP_MODELS:\n",
    "            out = get_output(translations, smodel, curr_df, test=True)\n",
    "            print(out.shape)\n",
    "            break\n",
    "    except Exception as e:\n",
    "        print(\"**** ERROR ****\")\n",
    "        print(tmodel, smodel)\n",
    "        print(e)\n",
    "    finally:\n",
    "        print()\n",
    "        break"
   ]
  },
  {
   "cell_type": "code",
   "execution_count": 160,
   "id": "30c606e1-440a-4aa4-92d0-4e74818b27d5",
   "metadata": {},
   "outputs": [],
   "source": [
    "import os\n",
    "curr_df['Pred_Score'] = out.tolist()\n",
    "# os.remove('./out/pred_hin_b.csv')\n",
    "curr_df.to_csv('./out/pred_hin_b.csv', index=False, columns=['PairID', 'Pred_Score'])"
   ]
  },
  {
   "cell_type": "code",
   "execution_count": 161,
   "id": "423246a9-75e2-42bf-9c82-01b7489763b5",
   "metadata": {},
   "outputs": [
    {
     "data": {
      "text/html": [
       "<div>\n",
       "<style scoped>\n",
       "    .dataframe tbody tr th:only-of-type {\n",
       "        vertical-align: middle;\n",
       "    }\n",
       "\n",
       "    .dataframe tbody tr th {\n",
       "        vertical-align: top;\n",
       "    }\n",
       "\n",
       "    .dataframe thead th {\n",
       "        text-align: right;\n",
       "    }\n",
       "</style>\n",
       "<table border=\"1\" class=\"dataframe\">\n",
       "  <thead>\n",
       "    <tr style=\"text-align: right;\">\n",
       "      <th></th>\n",
       "      <th>PairID</th>\n",
       "      <th>Pred_Score</th>\n",
       "    </tr>\n",
       "  </thead>\n",
       "  <tbody>\n",
       "    <tr>\n",
       "      <th>0</th>\n",
       "      <td>HIN-dev-00046</td>\n",
       "      <td>0.739316</td>\n",
       "    </tr>\n",
       "    <tr>\n",
       "      <th>1</th>\n",
       "      <td>HIN-dev-00158</td>\n",
       "      <td>0.663134</td>\n",
       "    </tr>\n",
       "    <tr>\n",
       "      <th>2</th>\n",
       "      <td>HIN-dev-00257</td>\n",
       "      <td>0.696460</td>\n",
       "    </tr>\n",
       "    <tr>\n",
       "      <th>3</th>\n",
       "      <td>HIN-dev-00043</td>\n",
       "      <td>0.644122</td>\n",
       "    </tr>\n",
       "    <tr>\n",
       "      <th>4</th>\n",
       "      <td>HIN-dev-00182</td>\n",
       "      <td>0.642022</td>\n",
       "    </tr>\n",
       "  </tbody>\n",
       "</table>\n",
       "</div>"
      ],
      "text/plain": [
       "          PairID  Pred_Score\n",
       "0  HIN-dev-00046    0.739316\n",
       "1  HIN-dev-00158    0.663134\n",
       "2  HIN-dev-00257    0.696460\n",
       "3  HIN-dev-00043    0.644122\n",
       "4  HIN-dev-00182    0.642022"
      ]
     },
     "execution_count": 161,
     "metadata": {},
     "output_type": "execute_result"
    }
   ],
   "source": [
    "tmp = pd.read_csv('./out/pred_hin_b.csv')\n",
    "tmp.head()"
   ]
  },
  {
   "cell_type": "code",
   "execution_count": null,
   "id": "e13812b8-9375-411c-be98-677cba084a1e",
   "metadata": {},
   "outputs": [],
   "source": []
  },
  {
   "cell_type": "code",
   "execution_count": null,
   "id": "4e100e4c-6eda-40b6-8219-5450bdfb0a53",
   "metadata": {},
   "outputs": [],
   "source": []
  },
  {
   "cell_type": "code",
   "execution_count": null,
   "id": "fc7514d8-0038-4f36-91d7-41de9df987e0",
   "metadata": {},
   "outputs": [],
   "source": []
  },
  {
   "cell_type": "code",
   "execution_count": null,
   "id": "988e7e92-1c28-4deb-b29c-6e746193379e",
   "metadata": {},
   "outputs": [],
   "source": []
  },
  {
   "cell_type": "code",
   "execution_count": 172,
   "id": "1b82706b-f01e-4514-a6c0-15c4d4f81723",
   "metadata": {},
   "outputs": [
    {
     "data": {
      "text/plain": [
       "['amh', 'arq', 'ary', 'eng', 'esp', 'hau', 'kin', 'mar', 'tel']"
      ]
     },
     "execution_count": 172,
     "metadata": {},
     "output_type": "execute_result"
    }
   ],
   "source": [
    "os.listdir(\"./data/Track A/\")"
   ]
  },
  {
   "cell_type": "code",
   "execution_count": 190,
   "id": "a826e963-de5c-4a42-92f2-35a14c1a7e1f",
   "metadata": {},
   "outputs": [],
   "source": [
    "lang_codes = {\n",
    "    \"amh\": \"amh_Ethi\",\n",
    "    \"ary\": \"ary_Arab\",\n",
    "    \"eng\": \"eng_Latn\",\n",
    "    \"esp\": \"spa_Latn\",\n",
    "    \"hau\": \"hau_Latn\",\n",
    "    \"kin\": \"kin_Latn\",\n",
    "    \"mar\": \"mar_Deva\",\n",
    "    \"tel\": \"tel_Telu\"\n",
    "}\n",
    "\n",
    "TRANSLATION_MODELS = [\n",
    "    # (\"google/madlad400-3b-mt\", 16),\n",
    "    # (\"google/madlad400-10b-mt\", 16),\n",
    "    # (\"facebook/mbart-large-50-many-to-many-mmt\", 16),\n",
    "    # (\"facebook/mbart-large-50-many-to-one-mmt\", 16),\n",
    "    # (\"facebook/mbart-large-50-one-to-many-mmt\", 16),\n",
    "    # (\"facebook/mbart-large-50\", 16),\n",
    "    # (\"facebook/mbart-large-cc25\", 16),\n",
    "    (\"facebook/nllb-200-1.3B\", 16),\n",
    "    (\"facebook/nllb-200-3.3B\", 8),\n",
    "    (\"facebook/nllb-200-distilled-600M\", 16), # bsz fixed\n",
    "    (\"facebook/nllb-200-distilled-1.3B\", 16), # bsz fixed\n",
    "    # (\"facebook/nllb-moe-54b\", 2),\n",
    "]"
   ]
  },
  {
   "cell_type": "code",
   "execution_count": 238,
   "id": "77733911-b16b-4c13-80d0-2b16885a569e",
   "metadata": {},
   "outputs": [
    {
     "data": {
      "text/plain": [
       "['amh', 'arq', 'ary', 'eng', 'esp', 'hau', 'kin', 'mar', 'tel']"
      ]
     },
     "execution_count": 238,
     "metadata": {},
     "output_type": "execute_result"
    }
   ],
   "source": [
    "os.listdir(\"./data/Track A/\")"
   ]
  },
  {
   "cell_type": "code",
   "execution_count": 311,
   "id": "6435a9d5-1728-4a3a-bde7-a0fbbdf99d6b",
   "metadata": {},
   "outputs": [
    {
     "name": "stdout",
     "output_type": "stream",
     "text": [
      "eng\n",
      "eng train 4950\n"
     ]
    },
    {
     "data": {
      "application/vnd.jupyter.widget-view+json": {
       "model_id": "d6d0eefaa6414c38bb36abcf56b86862",
       "version_major": 2,
       "version_minor": 0
      },
      "text/plain": [
       "  0%|          | 0/4 [00:00<?, ?it/s]"
      ]
     },
     "metadata": {},
     "output_type": "display_data"
    },
    {
     "data": {
      "application/vnd.jupyter.widget-view+json": {
       "model_id": "36f92953479d44af9c75dc1edaa4f473",
       "version_major": 2,
       "version_minor": 0
      },
      "text/plain": [
       "Loading checkpoint shards:   0%|          | 0/3 [00:00<?, ?it/s]"
      ]
     },
     "metadata": {},
     "output_type": "display_data"
    },
    {
     "name": "stdout",
     "output_type": "stream",
     "text": [
      "eng val 550\n"
     ]
    },
    {
     "data": {
      "application/vnd.jupyter.widget-view+json": {
       "model_id": "77d0a68e9de542dd905af743558cbff3",
       "version_major": 2,
       "version_minor": 0
      },
      "text/plain": [
       "  0%|          | 0/4 [00:00<?, ?it/s]"
      ]
     },
     "metadata": {},
     "output_type": "display_data"
    },
    {
     "data": {
      "application/vnd.jupyter.widget-view+json": {
       "model_id": "8a60912917ea45f9ac4ea301c0031d29",
       "version_major": 2,
       "version_minor": 0
      },
      "text/plain": [
       "Loading checkpoint shards:   0%|          | 0/3 [00:00<?, ?it/s]"
      ]
     },
     "metadata": {},
     "output_type": "display_data"
    },
    {
     "name": "stdout",
     "output_type": "stream",
     "text": [
      "eng dev 250\n"
     ]
    },
    {
     "data": {
      "application/vnd.jupyter.widget-view+json": {
       "model_id": "97efe32891f54b629b3e084db6cb438b",
       "version_major": 2,
       "version_minor": 0
      },
      "text/plain": [
       "  0%|          | 0/4 [00:00<?, ?it/s]"
      ]
     },
     "metadata": {},
     "output_type": "display_data"
    },
    {
     "data": {
      "application/vnd.jupyter.widget-view+json": {
       "model_id": "d0da0329358644f49c8ecf00b894c0c2",
       "version_major": 2,
       "version_minor": 0
      },
      "text/plain": [
       "Loading checkpoint shards:   0%|          | 0/3 [00:00<?, ?it/s]"
      ]
     },
     "metadata": {},
     "output_type": "display_data"
    }
   ],
   "source": [
    "from tqdm.auto import tqdm\n",
    "from sklearn.model_selection import train_test_split\n",
    "from collections import defaultdict\n",
    "from pathlib import Path\n",
    "Path(\"./data/translations/\").mkdir(exist_ok=True)\n",
    "\n",
    "tot_train = 0\n",
    "tot_val = 0\n",
    "\n",
    "for lang in os.listdir(\"./data/Track A/\"):\n",
    "    if lang in [\"amh\", \"arq\"]: continue\n",
    "    if not os.path.isdir(f\"./data/Track A/{lang}\"): continue\n",
    "\n",
    "    df = pd.read_csv(f\"./data/Track A/{lang}/{lang}_train.csv\")\n",
    "    train_df, val_df = train_test_split(df, test_size=0.1, random_state=RANDOM_SEED)\n",
    "    train_df.to_csv(f\"./data/Track A/{lang}/{lang}_train_split.csv\")\n",
    "    val_df.to_csv(f\"./data/Track A/{lang}/{lang}_val_split.csv\")\n",
    "\n",
    "    def write_translation(mode):\n",
    "        file_name = f\"{lang}_{mode}\"\n",
    "        if mode != \"dev\": file_name += '_split'\n",
    "        df = pd.read_csv(f\"./data/Track A/{lang}/{file_name}.csv\")\n",
    "        df[\"text1\"] = df[\"Text\"].map(lambda x: x.split(\"\\n\")[0].strip('\"'))\n",
    "        df[\"text2\"] = df[\"Text\"].map(lambda x: x.split(\"\\n\")[1].strip('\"'))\n",
    "    \n",
    "        print(lang, mode, len(df))\n",
    "    \n",
    "        all_translations = defaultdict(list)\n",
    "        for tmodel_name, batch_size in tqdm(TRANSLATION_MODELS):\n",
    "            tmodel = AutoModelForSeq2SeqLM.from_pretrained(tmodel_name)\n",
    "            ttokenizer = AutoTokenizer.from_pretrained(tmodel_name)\n",
    "            source = lang_codes[lang]\n",
    "            target = \"eng_Latn\"\n",
    "            task_name = 'translation'\n",
    "            # if tmodel_name.index(\"mbart\") != -1: task_name = \"translation_te_to_en\"\n",
    "            translator = pipeline(task_name, model=tmodel, tokenizer=ttokenizer, src_lang=source, tgt_lang=target, batch_size=batch_size, device=DEVICE)\n",
    "        \n",
    "            texts1 = []\n",
    "            texts2 = []\n",
    "            for i, row in df.iterrows():\n",
    "                text1 = row['text1']\n",
    "                text2 = row['text2']\n",
    "                texts1.append(text1)\n",
    "                texts2.append(text2)\n",
    "            translations1 = translator(texts1, max_length=800)\n",
    "            translations1 = [x['translation_text'] for x in translations1]\n",
    "    \n",
    "            translations2 = translator(texts2, max_length=800)\n",
    "            translations2 = [x['translation_text'] for x in translations2]\n",
    "\n",
    "            for i, (_, row) in enumerate(df.iterrows()):\n",
    "                all_translations['text1'].append(translations1[i])\n",
    "                all_translations['text2'].append(translations2[i])\n",
    "                all_translations['PairID'].append(row['PairID'])\n",
    "                all_translations['model'].append(tmodel_name)\n",
    "                if mode != 'dev':\n",
    "                    all_translations['Score'].append(row['Score'])\n",
    "\n",
    "            if lang == 'eng': break\n",
    "    \n",
    "        out_df = pd.DataFrame(all_translations)\n",
    "        out_df.to_csv(f\"./data/Track A/{lang}/{mode}_translation.csv\")\n",
    "\n",
    "    for mode in ['train', 'val', 'dev']:\n",
    "        write_translation(mode)"
   ]
  },
  {
   "cell_type": "code",
   "execution_count": 294,
   "id": "b17309e1-6fc8-4c23-a39e-adfed72596d7",
   "metadata": {},
   "outputs": [
    {
     "data": {
      "text/plain": [
       "(0, 0)"
      ]
     },
     "execution_count": 294,
     "metadata": {},
     "output_type": "execute_result"
    }
   ],
   "source": [
    "tot_train, tot_val"
   ]
  },
  {
   "cell_type": "code",
   "execution_count": null,
   "id": "16c96077-f43b-4886-992f-73b38e177be5",
   "metadata": {},
   "outputs": [],
   "source": []
  },
  {
   "cell_type": "code",
   "execution_count": null,
   "id": "6522f3df-72bf-434d-be31-caa4250bbed5",
   "metadata": {},
   "outputs": [],
   "source": []
  },
  {
   "cell_type": "code",
   "execution_count": 312,
   "id": "22a9f923-5041-45d0-a994-4c68dd933d5c",
   "metadata": {},
   "outputs": [
    {
     "name": "stdout",
     "output_type": "stream",
     "text": [
      "ada.sh\t\t   jupyter.sh  pyproject.toml  sweep.sh\t\t wandb\n",
      "data\t\t   LICENSE     README.md       sweep.yaml\n",
      "evaluation_script  log\t       run\t       train.sh\n",
      "exploration.ipynb  out\t       src\t       translations.pkl\n"
     ]
    }
   ],
   "source": [
    "!ls"
   ]
  },
  {
   "cell_type": "code",
   "execution_count": 313,
   "id": "8b232780-c346-4df7-bc8b-01bb29da1594",
   "metadata": {},
   "outputs": [],
   "source": [
    "dirs = [\n",
    "    # 'amh',\n",
    "    # 'arq',\n",
    "    'ary', 'eng', 'esp', 'hau', 'kin', 'mar', 'tel']"
   ]
  },
  {
   "cell_type": "code",
   "execution_count": 314,
   "id": "661b0e5d-d6cc-41d0-88ad-42a7b54ba123",
   "metadata": {},
   "outputs": [],
   "source": [
    "all_trains = []\n",
    "all_vals = []\n",
    "all_devs = []\n",
    "\n",
    "for d in dirs:\n",
    "    df = pd.read_csv(f\"./data/Track A/{d}/train_translation.csv\")\n",
    "    df['lang'] = d\n",
    "    all_trains.append(df)\n",
    "\n",
    "    df = pd.read_csv(f\"./data/Track A/{d}/val_translation.csv\")\n",
    "    df['lang'] = d\n",
    "    all_vals.append(df)\n",
    "\n",
    "    df = pd.read_csv(f\"./data/Track A/{d}/dev_translation.csv\")\n",
    "    df['lang'] = d\n",
    "    all_devs.append(df)\n",
    "\n",
    "train = pd.concat(all_trains)\n",
    "val = pd.concat(all_vals)\n",
    "dev = pd.concat(all_devs)\n",
    "\n",
    "train.to_csv(\"./data/Track A/train_all.csv\")\n",
    "val.to_csv(\"./data/Track A/val_all.csv\")\n",
    "dev.to_csv(\"./data/Track A/dev_all.csv\")"
   ]
  },
  {
   "cell_type": "code",
   "execution_count": 315,
   "id": "593ad1d3-2aaf-4fea-a4c9-945f754d974d",
   "metadata": {},
   "outputs": [
    {
     "data": {
      "text/plain": [
       "31474"
      ]
     },
     "execution_count": 315,
     "metadata": {},
     "output_type": "execute_result"
    }
   ],
   "source": [
    "len(train)"
   ]
  },
  {
   "cell_type": "code",
   "execution_count": 316,
   "id": "39005e08-821e-44c7-a2fc-bb310cc574f4",
   "metadata": {},
   "outputs": [
    {
     "data": {
      "text/html": [
       "<div>\n",
       "<style scoped>\n",
       "    .dataframe tbody tr th:only-of-type {\n",
       "        vertical-align: middle;\n",
       "    }\n",
       "\n",
       "    .dataframe tbody tr th {\n",
       "        vertical-align: top;\n",
       "    }\n",
       "\n",
       "    .dataframe thead th {\n",
       "        text-align: right;\n",
       "    }\n",
       "</style>\n",
       "<table border=\"1\" class=\"dataframe\">\n",
       "  <thead>\n",
       "    <tr style=\"text-align: right;\">\n",
       "      <th></th>\n",
       "      <th>Unnamed: 0</th>\n",
       "      <th>text1</th>\n",
       "      <th>text2</th>\n",
       "      <th>PairID</th>\n",
       "      <th>model</th>\n",
       "      <th>Score</th>\n",
       "      <th>lang</th>\n",
       "    </tr>\n",
       "  </thead>\n",
       "  <tbody>\n",
       "    <tr>\n",
       "      <th>0</th>\n",
       "      <td>0</td>\n",
       "      <td>The temperature will be 47 degrees from tomorr...</td>\n",
       "      <td>They found a rascomb in the rainbow. The tempe...</td>\n",
       "      <td>ARY-train-0881</td>\n",
       "      <td>facebook/nllb-200-1.3B</td>\n",
       "      <td>0.69</td>\n",
       "      <td>ary</td>\n",
       "    </tr>\n",
       "    <tr>\n",
       "      <th>1</th>\n",
       "      <td>1</td>\n",
       "      <td>Corona outbreak today: 7805 people have receiv...</td>\n",
       "      <td>Corona and vaccines: 132 cases, 7 deaths, and ...</td>\n",
       "      <td>ARY-train-0096</td>\n",
       "      <td>facebook/nllb-200-1.3B</td>\n",
       "      <td>0.50</td>\n",
       "      <td>ary</td>\n",
       "    </tr>\n",
       "    <tr>\n",
       "      <th>2</th>\n",
       "      <td>2</td>\n",
       "      <td>Belgium at Security Council: UN resolves Sahar...</td>\n",
       "      <td>Desert workers for peace sends papal messages ...</td>\n",
       "      <td>ARY-train-0371</td>\n",
       "      <td>facebook/nllb-200-1.3B</td>\n",
       "      <td>0.44</td>\n",
       "      <td>ary</td>\n",
       "    </tr>\n",
       "    <tr>\n",
       "      <th>3</th>\n",
       "      <td>3</td>\n",
       "      <td>Gendarmes have shut down an international smug...</td>\n",
       "      <td>A major blow to security forces in the north: ...</td>\n",
       "      <td>ARY-train-0066</td>\n",
       "      <td>facebook/nllb-200-1.3B</td>\n",
       "      <td>0.57</td>\n",
       "      <td>ary</td>\n",
       "    </tr>\n",
       "    <tr>\n",
       "      <th>4</th>\n",
       "      <td>4</td>\n",
       "      <td>Eyes.. come and in coordination with the Dusty...</td>\n",
       "      <td>In coordination with the police, more than hal...</td>\n",
       "      <td>ARY-train-0342</td>\n",
       "      <td>facebook/nllb-200-1.3B</td>\n",
       "      <td>0.53</td>\n",
       "      <td>ary</td>\n",
       "    </tr>\n",
       "  </tbody>\n",
       "</table>\n",
       "</div>"
      ],
      "text/plain": [
       "   Unnamed: 0                                              text1  \\\n",
       "0           0  The temperature will be 47 degrees from tomorr...   \n",
       "1           1  Corona outbreak today: 7805 people have receiv...   \n",
       "2           2  Belgium at Security Council: UN resolves Sahar...   \n",
       "3           3  Gendarmes have shut down an international smug...   \n",
       "4           4  Eyes.. come and in coordination with the Dusty...   \n",
       "\n",
       "                                               text2          PairID  \\\n",
       "0  They found a rascomb in the rainbow. The tempe...  ARY-train-0881   \n",
       "1  Corona and vaccines: 132 cases, 7 deaths, and ...  ARY-train-0096   \n",
       "2  Desert workers for peace sends papal messages ...  ARY-train-0371   \n",
       "3  A major blow to security forces in the north: ...  ARY-train-0066   \n",
       "4  In coordination with the police, more than hal...  ARY-train-0342   \n",
       "\n",
       "                    model  Score lang  \n",
       "0  facebook/nllb-200-1.3B   0.69  ary  \n",
       "1  facebook/nllb-200-1.3B   0.50  ary  \n",
       "2  facebook/nllb-200-1.3B   0.44  ary  \n",
       "3  facebook/nllb-200-1.3B   0.57  ary  \n",
       "4  facebook/nllb-200-1.3B   0.53  ary  "
      ]
     },
     "execution_count": 316,
     "metadata": {},
     "output_type": "execute_result"
    }
   ],
   "source": [
    "train.head()"
   ]
  },
  {
   "cell_type": "code",
   "execution_count": 317,
   "id": "f3187245-8a06-425a-9d56-4b5859baa10d",
   "metadata": {},
   "outputs": [
    {
     "data": {
      "text/plain": [
       "3506"
      ]
     },
     "execution_count": 317,
     "metadata": {},
     "output_type": "execute_result"
    }
   ],
   "source": [
    "len(val)"
   ]
  },
  {
   "cell_type": "code",
   "execution_count": 318,
   "id": "a41f4c4f-d3db-4a56-a63f-4e65f72defc1",
   "metadata": {},
   "outputs": [
    {
     "data": {
      "text/html": [
       "<div>\n",
       "<style scoped>\n",
       "    .dataframe tbody tr th:only-of-type {\n",
       "        vertical-align: middle;\n",
       "    }\n",
       "\n",
       "    .dataframe tbody tr th {\n",
       "        vertical-align: top;\n",
       "    }\n",
       "\n",
       "    .dataframe thead th {\n",
       "        text-align: right;\n",
       "    }\n",
       "</style>\n",
       "<table border=\"1\" class=\"dataframe\">\n",
       "  <thead>\n",
       "    <tr style=\"text-align: right;\">\n",
       "      <th></th>\n",
       "      <th>Unnamed: 0</th>\n",
       "      <th>text1</th>\n",
       "      <th>text2</th>\n",
       "      <th>PairID</th>\n",
       "      <th>model</th>\n",
       "      <th>Score</th>\n",
       "      <th>lang</th>\n",
       "    </tr>\n",
       "  </thead>\n",
       "  <tbody>\n",
       "    <tr>\n",
       "      <th>0</th>\n",
       "      <td>0</td>\n",
       "      <td>The Directorate General of National Security p...</td>\n",
       "      <td>The case of the attack on the German tourist.....</td>\n",
       "      <td>ARY-train-0323</td>\n",
       "      <td>facebook/nllb-200-1.3B</td>\n",
       "      <td>0.43</td>\n",
       "      <td>ary</td>\n",
       "    </tr>\n",
       "    <tr>\n",
       "      <th>1</th>\n",
       "      <td>1</td>\n",
       "      <td>Today's reality: the result of today's crimes ...</td>\n",
       "      <td>Today's facts: The result of this day of crime...</td>\n",
       "      <td>ARY-train-0861</td>\n",
       "      <td>facebook/nllb-200-1.3B</td>\n",
       "      <td>0.47</td>\n",
       "      <td>ary</td>\n",
       "    </tr>\n",
       "    <tr>\n",
       "      <th>2</th>\n",
       "      <td>2</td>\n",
       "      <td>Protests over traffic violation. Young man set...</td>\n",
       "      <td>Fire is still a means of protest: A young man ...</td>\n",
       "      <td>ARY-train-0030</td>\n",
       "      <td>facebook/nllb-200-1.3B</td>\n",
       "      <td>0.39</td>\n",
       "      <td>ary</td>\n",
       "    </tr>\n",
       "    <tr>\n",
       "      <th>3</th>\n",
       "      <td>3</td>\n",
       "      <td>After he died.. the judiciary dismissed the pu...</td>\n",
       "      <td>Extending the theoretical custody of parliamen...</td>\n",
       "      <td>ARY-train-0837</td>\n",
       "      <td>facebook/nllb-200-1.3B</td>\n",
       "      <td>0.17</td>\n",
       "      <td>ary</td>\n",
       "    </tr>\n",
       "    <tr>\n",
       "      <th>4</th>\n",
       "      <td>4</td>\n",
       "      <td>Finance . People: 91 billion dirhams allocated...</td>\n",
       "      <td>More than 21,000 jobs at the shield of Tavilal...</td>\n",
       "      <td>ARY-train-0294</td>\n",
       "      <td>facebook/nllb-200-1.3B</td>\n",
       "      <td>0.62</td>\n",
       "      <td>ary</td>\n",
       "    </tr>\n",
       "  </tbody>\n",
       "</table>\n",
       "</div>"
      ],
      "text/plain": [
       "   Unnamed: 0                                              text1  \\\n",
       "0           0  The Directorate General of National Security p...   \n",
       "1           1  Today's reality: the result of today's crimes ...   \n",
       "2           2  Protests over traffic violation. Young man set...   \n",
       "3           3  After he died.. the judiciary dismissed the pu...   \n",
       "4           4  Finance . People: 91 billion dirhams allocated...   \n",
       "\n",
       "                                               text2          PairID  \\\n",
       "0  The case of the attack on the German tourist.....  ARY-train-0323   \n",
       "1  Today's facts: The result of this day of crime...  ARY-train-0861   \n",
       "2  Fire is still a means of protest: A young man ...  ARY-train-0030   \n",
       "3  Extending the theoretical custody of parliamen...  ARY-train-0837   \n",
       "4  More than 21,000 jobs at the shield of Tavilal...  ARY-train-0294   \n",
       "\n",
       "                    model  Score lang  \n",
       "0  facebook/nllb-200-1.3B   0.43  ary  \n",
       "1  facebook/nllb-200-1.3B   0.47  ary  \n",
       "2  facebook/nllb-200-1.3B   0.39  ary  \n",
       "3  facebook/nllb-200-1.3B   0.17  ary  \n",
       "4  facebook/nllb-200-1.3B   0.62  ary  "
      ]
     },
     "execution_count": 318,
     "metadata": {},
     "output_type": "execute_result"
    }
   ],
   "source": [
    "val.head()"
   ]
  },
  {
   "cell_type": "code",
   "execution_count": 319,
   "id": "8fef45ca-8439-4f77-85be-3d7acca8ca4f",
   "metadata": {},
   "outputs": [
    {
     "data": {
      "text/plain": [
       "4042"
      ]
     },
     "execution_count": 319,
     "metadata": {},
     "output_type": "execute_result"
    }
   ],
   "source": [
    "len(dev)"
   ]
  },
  {
   "cell_type": "code",
   "execution_count": 320,
   "id": "3628ca97-cd6c-467f-a538-5a6056f5230f",
   "metadata": {},
   "outputs": [
    {
     "data": {
      "text/html": [
       "<div>\n",
       "<style scoped>\n",
       "    .dataframe tbody tr th:only-of-type {\n",
       "        vertical-align: middle;\n",
       "    }\n",
       "\n",
       "    .dataframe tbody tr th {\n",
       "        vertical-align: top;\n",
       "    }\n",
       "\n",
       "    .dataframe thead th {\n",
       "        text-align: right;\n",
       "    }\n",
       "</style>\n",
       "<table border=\"1\" class=\"dataframe\">\n",
       "  <thead>\n",
       "    <tr style=\"text-align: right;\">\n",
       "      <th></th>\n",
       "      <th>Unnamed: 0</th>\n",
       "      <th>text1</th>\n",
       "      <th>text2</th>\n",
       "      <th>PairID</th>\n",
       "      <th>model</th>\n",
       "      <th>lang</th>\n",
       "    </tr>\n",
       "  </thead>\n",
       "  <tbody>\n",
       "    <tr>\n",
       "      <th>0</th>\n",
       "      <td>0</td>\n",
       "      <td>This is the first photo of Tamer Hosni's daugh...</td>\n",
       "      <td>The first dispute between Tamer Hosni and his ...</td>\n",
       "      <td>ARY-dev-0000</td>\n",
       "      <td>facebook/nllb-200-1.3B</td>\n",
       "      <td>ary</td>\n",
       "    </tr>\n",
       "    <tr>\n",
       "      <th>1</th>\n",
       "      <td>1</td>\n",
       "      <td>The case of hemsha Mon Pepe is a big one. The ...</td>\n",
       "      <td>Her horse brought her a \"Hamza Mon Bebe\" that ...</td>\n",
       "      <td>ARY-dev-0001</td>\n",
       "      <td>facebook/nllb-200-1.3B</td>\n",
       "      <td>ary</td>\n",
       "    </tr>\n",
       "    <tr>\n",
       "      <th>2</th>\n",
       "      <td>2</td>\n",
       "      <td>They stayed in Diorcom. 38 new coronavirus cas...</td>\n",
       "      <td>Stay in your ward . We are doing well . 37 new...</td>\n",
       "      <td>ARY-dev-0002</td>\n",
       "      <td>facebook/nllb-200-1.3B</td>\n",
       "      <td>ary</td>\n",
       "    </tr>\n",
       "    <tr>\n",
       "      <th>3</th>\n",
       "      <td>3</td>\n",
       "      <td>The BJP wants to hold a mass vote in the elect...</td>\n",
       "      <td>The BJD wants to run a clean protest against t...</td>\n",
       "      <td>ARY-dev-0003</td>\n",
       "      <td>facebook/nllb-200-1.3B</td>\n",
       "      <td>ary</td>\n",
       "    </tr>\n",
       "    <tr>\n",
       "      <th>4</th>\n",
       "      <td>4</td>\n",
       "      <td>Corona today: 2 dead and 151 infected and 1 mi...</td>\n",
       "      <td>Corona: 8338 infected and 10 dead in 24 hours,...</td>\n",
       "      <td>ARY-dev-0004</td>\n",
       "      <td>facebook/nllb-200-1.3B</td>\n",
       "      <td>ary</td>\n",
       "    </tr>\n",
       "  </tbody>\n",
       "</table>\n",
       "</div>"
      ],
      "text/plain": [
       "   Unnamed: 0                                              text1  \\\n",
       "0           0  This is the first photo of Tamer Hosni's daugh...   \n",
       "1           1  The case of hemsha Mon Pepe is a big one. The ...   \n",
       "2           2  They stayed in Diorcom. 38 new coronavirus cas...   \n",
       "3           3  The BJP wants to hold a mass vote in the elect...   \n",
       "4           4  Corona today: 2 dead and 151 infected and 1 mi...   \n",
       "\n",
       "                                               text2        PairID  \\\n",
       "0  The first dispute between Tamer Hosni and his ...  ARY-dev-0000   \n",
       "1  Her horse brought her a \"Hamza Mon Bebe\" that ...  ARY-dev-0001   \n",
       "2  Stay in your ward . We are doing well . 37 new...  ARY-dev-0002   \n",
       "3  The BJD wants to run a clean protest against t...  ARY-dev-0003   \n",
       "4  Corona: 8338 infected and 10 dead in 24 hours,...  ARY-dev-0004   \n",
       "\n",
       "                    model lang  \n",
       "0  facebook/nllb-200-1.3B  ary  \n",
       "1  facebook/nllb-200-1.3B  ary  \n",
       "2  facebook/nllb-200-1.3B  ary  \n",
       "3  facebook/nllb-200-1.3B  ary  \n",
       "4  facebook/nllb-200-1.3B  ary  "
      ]
     },
     "execution_count": 320,
     "metadata": {},
     "output_type": "execute_result"
    }
   ],
   "source": [
    "dev.head()"
   ]
  },
  {
   "cell_type": "code",
   "execution_count": 321,
   "id": "b2596d7b-80f2-4727-989c-81356fcf7abf",
   "metadata": {},
   "outputs": [
    {
     "data": {
      "text/plain": [
       "model\n",
       "facebook/nllb-200-3.3B              1198\n",
       "facebook/nllb-200-1.3B               948\n",
       "facebook/nllb-200-distilled-600M     948\n",
       "facebook/nllb-200-distilled-1.3B     948\n",
       "Name: count, dtype: int64"
      ]
     },
     "execution_count": 321,
     "metadata": {},
     "output_type": "execute_result"
    }
   ],
   "source": [
    "dev['model'].value_counts()"
   ]
  },
  {
   "cell_type": "code",
   "execution_count": null,
   "id": "a9a704cb-089d-4861-9da6-8a9ce4c7d240",
   "metadata": {},
   "outputs": [],
   "source": []
  },
  {
   "cell_type": "code",
   "execution_count": null,
   "id": "71579b38-8899-4b6a-a1fc-0d1e95dd5c6c",
   "metadata": {},
   "outputs": [],
   "source": []
  }
 ],
 "metadata": {
  "kernelspec": {
   "display_name": "Python 3 (ipykernel)",
   "language": "python",
   "name": "python3"
  },
  "language_info": {
   "codemirror_mode": {
    "name": "ipython",
    "version": 3
   },
   "file_extension": ".py",
   "mimetype": "text/x-python",
   "name": "python",
   "nbconvert_exporter": "python",
   "pygments_lexer": "ipython3",
   "version": "3.10.13"
  }
 },
 "nbformat": 4,
 "nbformat_minor": 5
}
